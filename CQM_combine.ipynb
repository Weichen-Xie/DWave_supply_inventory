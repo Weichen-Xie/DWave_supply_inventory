{
 "metadata": {
  "language_info": {
   "codemirror_mode": {
    "name": "ipython",
    "version": 3
   },
   "file_extension": ".py",
   "mimetype": "text/x-python",
   "name": "python",
   "nbconvert_exporter": "python",
   "pygments_lexer": "ipython3",
   "version": "3.9.13"
  },
  "orig_nbformat": 4,
  "kernelspec": {
   "name": "python3",
   "display_name": "Python 3.9.13 64-bit"
  },
  "interpreter": {
   "hash": "4cd7ab41f5fca4b9b44701077e38c5ffd31fe66a6cab21e0214b68d958d0e462"
  }
 },
 "nbformat": 4,
 "nbformat_minor": 2,
 "cells": [
  {
   "source": [
    "# Combined Optimizations\n",
    "Now that we know how to make decisions on choosing minimal numbers of suppliers and earning maximal net profit, it is time to combine these 2 optimization problems together and solve the problem in a more realistic situation.\n",
    "\n",
    "Now the grocer needs to maintain the inventory from smallest number of suppliers while chasing the largest profit. This can be modelled by combining the \"Set Cover\" problem from supplier optimization and \"Knapsack\" problem from profit optimization. As always, notations and assumptions are first given as follows:\n",
    "\n",
    "  1. there are $N$ different kinds of items $U=\\{ U_0, U_1,\\cdots,U_{N-1} \\}$\n",
    "  2. each of the item has its own selling price $V=\\{ V_0, V_1, \\cdots, V_{N-1}\\}$\n",
    "  3. there are $M$ different suppliers $S=\\{ S_0, S_1, \\cdots, S_{M-1}\\}$\n",
    "  4. costs are different from suppliers $W_j=\\{ W_{j0}, W_{j1}, \\cdots, W_{j(N-1)}\\}$ with $j=0,\\cdots,M-1$\n",
    "  5. the quantity of each item has upper bounds $B=\\{ B_0, B_1, \\cdots, B_{N-1}\\}$\n",
    "  6. there is a budget limit $C$ for buying the items\n",
    "  7. all items will be sold out\n",
    "\n",
    "This combination of \"Set Cover\" problem and \"Knapsack\" problem can be handled by D-Wave CQM solver."
   ],
   "cell_type": "markdown",
   "metadata": {}
  },
  {
   "source": [
    "## Import Labraries"
   ],
   "cell_type": "markdown",
   "metadata": {}
  },
  {
   "cell_type": "code",
   "execution_count": 1,
   "metadata": {},
   "outputs": [],
   "source": [
    "from dimod import CQM, Binary, Integer, quicksum\n",
    "from dwave.system import LeapHybridCQMSampler\n",
    "import numpy as np\n",
    "import pandas as pd"
   ]
  },
  {
   "source": [
    "## Problem Set Up\n",
    "Randomly generating data as shown in the assumption."
   ],
   "cell_type": "markdown",
   "metadata": {}
  },
  {
   "cell_type": "code",
   "execution_count": 2,
   "metadata": {},
   "outputs": [
    {
     "output_type": "stream",
     "name": "stdout",
     "text": [
      "------------- Problem set up -------------\n------------- Inventory -------------\nBudget: 100\nNumber of elements in the universe: 8\nThe inventory universe is [0, 1, 4, 9, 11, 12, 13, 15]\nThe price of each item is [1, 2, 10, 1, 10, 8, 6, 4]\nBound on item quantity is [2, 6, 5, 2, 5, 4, 3, 2]\n------------------------------------------\n"
     ]
    }
   ],
   "source": [
    "# ---------- Problem set up -------------\n",
    "np.random.seed(10) # fixed randomness\n",
    "\n",
    "print('------------- Problem set up -------------')\n",
    "# inventory universe\n",
    "U = list(set(np.random.randint(16, size=(10))))\n",
    "# Average cost of items\n",
    "W_avg = {U[i]: int(np.random.randint(9)+1) for i in range(len(U))}\n",
    "# Price of items\n",
    "V = [int(1.2*W_avg[U[i]]) for i in range(len(U))]\n",
    "# Upper bound on number of items\n",
    "upper_bound = list(np.random.randint(2, 8, size=(len(U))))\n",
    "# Budget\n",
    "Wbudget = 100\n",
    "# Print set up\n",
    "print('------------- Inventory -------------')\n",
    "print('Budget:', Wbudget)\n",
    "print('Number of elements in the universe: {:d}'.format(len(U)))\n",
    "print('The inventory universe is', U)\n",
    "print('The price of each item is', V)\n",
    "print('Bound on item quantity is', upper_bound)\n",
    "print('------------------------------------------')\n",
    "\n"
   ]
  },
  {
   "cell_type": "code",
   "execution_count": 3,
   "metadata": {},
   "outputs": [
    {
     "output_type": "stream",
     "name": "stdout",
     "text": [
      "------------- Suppliers -------------\nThere are 5 suppliers:\n----------------------------\nSupplier0 {1, 9, 11, 12, 13}\nCosts:  [2, 2, 8, 7, 5]\n----------------------------\nSupplier1 {9, 12, 13, 1}\nCosts:  [1, 7, 5, 2]\n----------------------------\nSupplier2 {1, 11, 13}\nCosts:  [2, 8, 5]\n----------------------------\nSupplier3 {1, 4, 9, 11, 15}\nCosts:  [3, 8, 1, 10, 5]\n----------------------------\nSupplier4 {0, 12, 13, 15}\nCosts:  [1, 8, 5, 5]\n----------------------------\n------------------------------------------\n"
     ]
    }
   ],
   "source": [
    "# suppliers \n",
    "S = [set(U[i] for i in np.random.randint(len(U), size=(6))) for j in range(5)]\n",
    "# Costs from each supplier\n",
    "W = list(S)\n",
    "for i in range(len(S)):\n",
    "    W[i] = list(S[i])\n",
    "    for j in range(len(W[i])):\n",
    "        W[i][j] = int(np.random.randint(75,125,1)*W_avg[list(S[i])[j]]/100) + 1\n",
    "# Print set up\n",
    "print('------------- Suppliers -------------')\n",
    "print('There are {:d} suppliers:'.format(len(S)))\n",
    "print('----------------------------')\n",
    "for i in range(len(S)):\n",
    "    print('Supplier{:d}'.format(i), S[i])\n",
    "    print('Costs: ', W[i])\n",
    "    print('----------------------------')\n",
    "print('------------------------------------------')"
   ]
  },
  {
   "source": [
    "## Building CQM\n",
    "Both binary variables $y_j$ and discrete variables $x_{ji}$ are needed to build the model.\n",
    "Binary variables $y_j$ indicate the decision for choosing supplier $S_j$, i.e.,\n",
    "\n",
    "$$\n",
    "y_j = \n",
    "\\left\\{\n",
    "    \\begin{array}{cl}\n",
    "        1, & S_j \\mathrm{\\ \\ is\\ \\ chosen}\\\\\n",
    "        0, & \\mathrm{otherwise}\n",
    "    \\end{array}\n",
    "\\right.\n",
    "$$\n",
    "\n",
    "Discrete variables $x_{ji}$ denote the quantity of restoring item $U_i$ from supplier $S_j$. A loose upper bound for $x_{ji}$ is obtained from the item quantity upper bound:\n",
    "\n",
    "$$\n",
    "0\\leq x_{ji}\\leq B_i,\\ \\ \\ \\ i=0,\\cdots,N-1.\n",
    "$$"
   ],
   "cell_type": "markdown",
   "metadata": {}
  },
  {
   "cell_type": "code",
   "execution_count": 4,
   "metadata": {},
   "outputs": [],
   "source": [
    "# ---------- Build QCM ------------\n",
    "cqm = CQM()\n",
    "\n",
    "# Create discrete variables\n",
    "# Quantity of each item from each supplier\n",
    "x = [[Integer((j,i), upper_bound=upper_bound[i]) for i in range(len(U))] for j in range(len(S))]\n",
    "# Create binary variables\n",
    "# Indicator for choosing each supplier\n",
    "y = [[Binary((j,len(U)+1))] for j in range(len(S))]\n"
   ]
  },
  {
   "source": [
    "The main target is no longer unique in this situation: chasing maximal net profit while using minimal number of suppliers. What's worse, these 2 goals may not be consistant with each other: Reducing the number of suppliers may increase the costs for restoring inventory. There are ways to handle this problem, and a normal way is to assign \"weights\" on these 2 targets, which gives the following objective function:\n",
    "\n",
    "$$\n",
    "\\min\\ \\  A\\cdot\\sum_{i,j=0}^{N-1,M-1} (W_{ji}-V_i)\\cdot x_{ji}\\cdot y_j \\ +\\  B\\cdot\\sum_{j=0}^{M-1} y_j\n",
    "$$\n",
    "\n",
    "where $A,B$ are Lagrange Multipliers for weighting the \"importance\" of the targets."
   ],
   "cell_type": "markdown",
   "metadata": {}
  },
  {
   "cell_type": "code",
   "execution_count": 5,
   "metadata": {},
   "outputs": [],
   "source": [
    "# -------------- Objective Function ------------------\n",
    "# maximize total profit\n",
    "obj1 = -quicksum(V[i]*x[j][i]*y[j][0] for i in range(len(U)) for j in range(len(S)) )\n",
    "# minimize total cost\n",
    "obj2 = quicksum(W[j][i]*x[j][ U.index(list(S[j])[i]) ]*y[j][0] for j in range(len(S)) for i in range(len(W[j])) )\n",
    "# minimize number of suppliers\n",
    "obj3 = quicksum(y[j][0] for j in range(len(S)))\n",
    "\n",
    "# set Lagrange Multipliers\n",
    "A = 1\n",
    "B = 1\n",
    "\n",
    "# Add obj to CQM\n",
    "cqm.set_objective(A*(obj1+obj2)+B*obj3)"
   ]
  },
  {
   "source": [
    "There are several constraints for this problem:\n",
    "\n",
    "    1. chosen suppliers should cover all items from inventory"
   ],
   "cell_type": "markdown",
   "metadata": {}
  },
  {
   "cell_type": "code",
   "execution_count": 6,
   "metadata": {},
   "outputs": [],
   "source": [
    "# -------------- Constraints -----------------\n",
    "# suppliers should cover all items\n",
    "for i in range(len(U)):\n",
    "    cqm.add_constraint( quicksum( int(U[i] in S[j])*x[j][i]*y[j][0] for j in range(len(S))) >= 1,\n",
    "                        label = 'cover item {:d}'.format(i) )"
   ]
  },
  {
   "source": [
    "    2. costs should not exceed the total budget limit"
   ],
   "cell_type": "markdown",
   "metadata": {}
  },
  {
   "cell_type": "code",
   "execution_count": 7,
   "metadata": {},
   "outputs": [
    {
     "output_type": "execute_result",
     "data": {
      "text/plain": [
       "'budget'"
      ]
     },
     "metadata": {},
     "execution_count": 7
    }
   ],
   "source": [
    "# no exceeding total budget\n",
    "cqm.add_constraint( quicksum(W[j][i]*x[j][ U.index(list(S[j])[i]) ]*y[j][0] for j in range(len(S)) for i in range(len(W[j])) ) <= Wbudget,\n",
    "                    label = 'budget' )"
   ]
  },
  {
   "source": [
    "    3. each item has a total upper bound from the grocer"
   ],
   "cell_type": "markdown",
   "metadata": {}
  },
  {
   "cell_type": "code",
   "execution_count": 8,
   "metadata": {},
   "outputs": [],
   "source": [
    "# no exceeding upper bound\n",
    "for i in range(len(U)):\n",
    "    cqm.add_constraint( quicksum(x[j][i] for j in range(len(S))) <= upper_bound[i], \n",
    "                        label = 'bound item {:d}'.format(i) )"
   ]
  },
  {
   "source": [
    "    4. grocer cannot buy items that are not supplied from the supplier"
   ],
   "cell_type": "markdown",
   "metadata": {}
  },
  {
   "cell_type": "code",
   "execution_count": 9,
   "metadata": {},
   "outputs": [],
   "source": [
    "# cannot buy without supply\n",
    "for i in range(len(U)):\n",
    "    for j in range(len(S)):\n",
    "        if U[i] not in S[j]:\n",
    "            cqm.add_constraint( x[j][i] == 0, \n",
    "                                label = 'supplier{:d} sells no item{:d}'.format(j, U[i]) )\n"
   ]
  },
  {
   "source": [
    "## Submit to CQM Solver"
   ],
   "cell_type": "markdown",
   "metadata": {}
  },
  {
   "cell_type": "code",
   "execution_count": 10,
   "metadata": {},
   "outputs": [],
   "source": [
    "# -------------- Submit to CQM sampler ---------------\n",
    "cqm_sampler = LeapHybridCQMSampler()\n",
    "sampleset = cqm_sampler.sample_cqm(cqm, label = 'Combine Demo')"
   ]
  },
  {
   "source": [
    "## Results"
   ],
   "cell_type": "markdown",
   "metadata": {}
  },
  {
   "cell_type": "code",
   "execution_count": 11,
   "metadata": {},
   "outputs": [
    {
     "output_type": "stream",
     "name": "stdout",
     "text": [
      "------------- Inventory -------------\nBudget: 100\nNumber of elements in the universe: 8\nThe inventory universe is [0, 1, 4, 9, 11, 12, 13, 15]\nThe price of each item is [1, 2, 10, 1, 10, 8, 6, 4]\nBound on item quantity is [2, 6, 5, 2, 5, 4, 3, 2]\n------------------------------------------\n"
     ]
    }
   ],
   "source": [
    "# Print set up again to compare\n",
    "print('------------- Inventory -------------')\n",
    "print('Budget:', Wbudget)\n",
    "print('Number of elements in the universe: {:d}'.format(len(U)))\n",
    "print('The inventory universe is', U)\n",
    "print('The price of each item is', V)\n",
    "print('Bound on item quantity is', upper_bound)\n",
    "print('------------------------------------------')\n",
    "\n"
   ]
  },
  {
   "cell_type": "code",
   "execution_count": 12,
   "metadata": {},
   "outputs": [
    {
     "output_type": "stream",
     "name": "stdout",
     "text": [
      "------------- Suppliers -------------\nThere are 5 suppliers:\n----------------------------\nSupplier0 {1, 9, 11, 12, 13}\nCosts:  [2, 2, 8, 7, 5]\n----------------------------\nSupplier1 {9, 12, 13, 1}\nCosts:  [1, 7, 5, 2]\n----------------------------\nSupplier2 {1, 11, 13}\nCosts:  [2, 8, 5]\n----------------------------\nSupplier3 {1, 4, 9, 11, 15}\nCosts:  [3, 8, 1, 10, 5]\n----------------------------\nSupplier4 {0, 12, 13, 15}\nCosts:  [1, 8, 5, 5]\n----------------------------\n------------------------------------------\n"
     ]
    }
   ],
   "source": [
    "print('------------- Suppliers -------------')\n",
    "print('There are {:d} suppliers:'.format(len(S)))\n",
    "print('----------------------------')\n",
    "for i in range(len(S)):\n",
    "    print('Supplier{:d}'.format(i), S[i])\n",
    "    print('Costs: ', W[i])\n",
    "    print('----------------------------')\n",
    "print('------------------------------------------')\n",
    "\n"
   ]
  },
  {
   "cell_type": "code",
   "execution_count": 13,
   "metadata": {},
   "outputs": [
    {
     "output_type": "stream",
     "name": "stdout",
     "text": [
      "------------- Solution -------------\n",
      "Choosing [1, 0, 0, 1, 1]\n",
      "Supplier  0  1  2  3  4\n",
      "Item                   \n",
      "0         0  0  0  0  2\n",
      "1         1  0  0  0  0\n",
      "4         0  0  0  5  0\n",
      "9         0  0  0  1  0\n",
      "11        4  0  0  0  0\n",
      "12        1  0  0  0  0\n",
      "13        1  0  0  0  1\n",
      "15        0  0  0  0  1\n",
      "Profit:  119\n",
      "Cost:  99\n",
      "Net Profit:  20\n"
     ]
    }
   ],
   "source": [
    "# -------------- Process the results ---------------\n",
    "print('------------- Solution -------------')\n",
    "feasible_sols = sampleset.filter(lambda row: row.is_feasible == True)\n",
    "if not len(feasible_sols):\n",
    "    print(\"\\nNo feasible solution found.\\n\")\n",
    "else:\n",
    "    sol = feasible_sols.first.sample\n",
    "    choosing_plan = [int(sol[(j,len(U)+1)]) for j in range(len(S))]\n",
    "    purchase_plan = [int(sol[(j,i)])*choosing_plan[j] for i in range(len(U)) for j in range(len(S))]\n",
    "    purchase_plan = np.array(purchase_plan).reshape( len(U), len(S) )\n",
    "\n",
    "    df = pd.DataFrame( purchase_plan, index=pd.Index(U, name='Item'),\n",
    "                       columns=pd.Index(list(range(len(S))), name='Supplier'))\n",
    "    print('Choosing', choosing_plan)\n",
    "    print(df)\n",
    "    cost = quicksum(W[j][i]*purchase_plan[ U.index(list(S[j])[i]) ][j] for j in range(len(S)) for i in range(len(W[j])) )\n",
    "    profit = quicksum( purchase_plan[i][j]*V[i] for i in range(len(U)) for j in range(len(S)) )\n",
    "    print('Profit: ', profit)\n",
    "    print('Cost: ', cost)\n",
    "    print('Net Profit: ', profit-cost)"
   ]
  }
 ]
}