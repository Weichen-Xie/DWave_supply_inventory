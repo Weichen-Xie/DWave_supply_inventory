{
 "metadata": {
  "language_info": {
   "codemirror_mode": {
    "name": "ipython",
    "version": 3
   },
   "file_extension": ".py",
   "mimetype": "text/x-python",
   "name": "python",
   "nbconvert_exporter": "python",
   "pygments_lexer": "ipython3",
   "version": "3.9.13"
  },
  "orig_nbformat": 4,
  "kernelspec": {
   "name": "python3",
   "display_name": "Python 3.9.13 64-bit"
  },
  "interpreter": {
   "hash": "4cd7ab41f5fca4b9b44701077e38c5ffd31fe66a6cab21e0214b68d958d0e462"
  }
 },
 "nbformat": 4,
 "nbformat_minor": 2,
 "cells": [
  {
   "source": [
    "# Supply Optimization\n",
    "As a typical logistic problem, a grocer needs to minimize the number of suppliers while fully filling the inventory. More specifically, we have the following assumptions:\n",
    "\n",
    "  1. there are $N$ different kinds of items $U=\\{U_0,U_1,\\cdots,U_{N-1}\\}$\n",
    "  2. there are $M$ different suppliers $S=\\{S_0,S_1,\\cdots,S_{M-1}\\}$, and each of them covers a subset of our items, i.e., $S_i\\subset U$.\n",
    "\n",
    "This is in fact is a \"Set Cover\" problem, and D-Wave CQM solver is used to handle this problem:"
   ],
   "cell_type": "markdown",
   "metadata": {}
  },
  {
   "source": [
    "## Import Libraries"
   ],
   "cell_type": "markdown",
   "metadata": {}
  },
  {
   "cell_type": "code",
   "execution_count": 1,
   "metadata": {},
   "outputs": [],
   "source": [
    "from dimod import CQM, Binary, quicksum\n",
    "from dwave.system import LeapHybridCQMSampler\n",
    "import numpy as np"
   ]
  },
  {
   "source": [
    "## Problem Set Up\n",
    "Randomly generating items as a list $U$ and suppliers as a list of subsets $V$."
   ],
   "cell_type": "markdown",
   "metadata": {}
  },
  {
   "cell_type": "code",
   "execution_count": 2,
   "metadata": {},
   "outputs": [
    {
     "output_type": "stream",
     "name": "stdout",
     "text": [
      "------------- Problem set up -------------\nThe universe is [0, 1, 2, 4, 5, 6, 7, 9]\nNumber of elements in the universe: 8\nThere are 5 collections:\nSupplier0: {0, 1, 2, 6}\nSupplier1: {0, 4, 5, 6, 7, 9}\nSupplier2: {0, 2, 4, 5, 7, 9}\nSupplier3: {1, 2, 4, 5, 7}\nSupplier4: {2, 4, 6, 7, 9}\nNumber of sets: N=5\n"
     ]
    }
   ],
   "source": [
    "# -------------- Problem set up --------------\n",
    "# items (e.g. [0,2,3,4,9])\n",
    "U = list(set(np.random.randint(10, size=(10))))\n",
    "# suppliers (e.g. [{0,2,3,4,9}, {0,9,2}, {0,2,3,4}, {0,9,2,3}, {0,2,3,4,9}])\n",
    "S = [set(U[i] for i in np.random.randint(len(U), size=(8))) for j in range(5)]\n",
    "\n",
    "# Print set up\n",
    "print('------------- Problem set up -------------')\n",
    "print('The universe is',U)\n",
    "print('Number of elements in the universe: {:d}'.format(len(U)))\n",
    "\n",
    "print('There are {:d} collections:'.format(len(S)))\n",
    "for j in range(len(S)):\n",
    "    print('Supplier{:d}:'.format(j), S[j])\n",
    "print('Number of sets: N={:d}'.format(len(S)))"
   ]
  },
  {
   "source": [
    "## Building CQM\n",
    "Binary variables $y_j$ are used to indicate if supplier $S_j$ is chosen or not:\n",
    "\n",
    "$$\n",
    "y_j = \n",
    "\\left\\{\n",
    "    \\begin{array}{cl}\n",
    "        1, & S_j\\mathrm{\\ \\ is\\ \\ choosen}\\\\\n",
    "        0, & \\mathrm{otherwise}\n",
    "    \\end{array}\n",
    "\\right.\n",
    "$$"
   ],
   "cell_type": "markdown",
   "metadata": {}
  },
  {
   "cell_type": "code",
   "execution_count": 3,
   "metadata": {},
   "outputs": [],
   "source": [
    "# Build CQM\n",
    "cqm = CQM()\n",
    "\n",
    "# Create Binary variables\n",
    "y = [Binary(j) for j in range(len(S))]"
   ]
  },
  {
   "source": [
    "Our target is to minimize the total number of suppliers, that is, the sum of indicators $y_j$ should be minimized:\n",
    "\n",
    "$$\n",
    "\\min \\sum_{j=0}^{M-1} y_j.\n",
    "$$"
   ],
   "cell_type": "markdown",
   "metadata": {}
  },
  {
   "cell_type": "code",
   "execution_count": 4,
   "metadata": {},
   "outputs": [],
   "source": [
    "# -------------- Objective Function ------------------\n",
    "# minimize total number of suppliers\n",
    "# Add obj to CQM\n",
    "cqm.set_objective(quicksum(y[j] for j in range(len(S))))"
   ]
  },
  {
   "source": [
    "Meanwhile, all items should be covered by some suppliers. This constraint can be modelled by counting for every item the number of chosen suppliers which cover this item:\n",
    "\n",
    "$$\n",
    "\\sum_{j=0}^{M-1} c_{ji}\\cdot y_j \\geq 1,\\ \\ \\ \\ i=0,\\cdots,N-1,\n",
    "$$\n",
    "where $c_{ji}$ is an indicator computed from the given set ups for denoting wheather item $U_i$ is covered by supplier $S_j$:\n",
    "\n",
    "$$\n",
    "c_{ji} = \n",
    "\\left\\{\n",
    "    \\begin{array}{cl}\n",
    "        1, & U_i \\in S_j\\\\\n",
    "        0, & \\mathrm{otherwise}\n",
    "    \\end{array}\n",
    "\\right.\n",
    "$$"
   ],
   "cell_type": "markdown",
   "metadata": {}
  },
  {
   "cell_type": "code",
   "execution_count": 5,
   "metadata": {},
   "outputs": [],
   "source": [
    "# -------------- Constraints -----------------\n",
    "# suppliers should cover all items\n",
    "for i in range(len(U)):\n",
    "    cqm.add_constraint( quicksum(int(U[i] in S[j])*y[j] for j in range(len(S))) >= 1,\n",
    "                        label = 'cover item {:d}'.format(i) )\n"
   ]
  },
  {
   "source": [
    "## Submit to CQM Solver"
   ],
   "cell_type": "markdown",
   "metadata": {}
  },
  {
   "cell_type": "code",
   "execution_count": 6,
   "metadata": {},
   "outputs": [],
   "source": [
    "# -------------- Submit to CQM sampler ---------------\n",
    "cqm_sampler = LeapHybridCQMSampler()\n",
    "sampleset = cqm_sampler.sample_cqm(cqm, label = 'Supply Demo')"
   ]
  },
  {
   "source": [
    "## Results"
   ],
   "cell_type": "markdown",
   "metadata": {}
  },
  {
   "cell_type": "code",
   "execution_count": 7,
   "metadata": {},
   "outputs": [
    {
     "output_type": "stream",
     "name": "stdout",
     "text": [
      "------------- Solution -------------\n",
      "[1, 0, 1, 0, 0]\n",
      "There are 2 supplier selected.\n",
      "Selected Suppliers: ['suppiler0', 'suppiler2']\n"
     ]
    }
   ],
   "source": [
    "# -------------- Process the results ---------------\n",
    "print('------------- Solution -------------')\n",
    "feasible_sols = sampleset.filter(lambda row: row.is_feasible == True)\n",
    "if not len(feasible_sols):\n",
    "    print(\"\\nNo feasible solution found.\\n\")\n",
    "else:\n",
    "    sol = [int(feasible_sols.first.sample[i]) for i in range(len(S))]\n",
    "    print(sol)\n",
    "    print('There are {:d} supplier selected.'.format(int(quicksum(sol))))\n",
    "    suppliers = [f'suppiler{i}' for i in np.where(sol)[0]]\n",
    "    print('Selected Suppliers:', suppliers)"
   ]
  }
 ]
}