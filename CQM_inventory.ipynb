{
 "metadata": {
  "language_info": {
   "codemirror_mode": {
    "name": "ipython",
    "version": 3
   },
   "file_extension": ".py",
   "mimetype": "text/x-python",
   "name": "python",
   "nbconvert_exporter": "python",
   "pygments_lexer": "ipython3",
   "version": "3.9.13"
  },
  "orig_nbformat": 4,
  "kernelspec": {
   "name": "python3",
   "display_name": "Python 3.9.13 64-bit"
  },
  "interpreter": {
   "hash": "4cd7ab41f5fca4b9b44701077e38c5ffd31fe66a6cab21e0214b68d958d0e462"
  }
 },
 "nbformat": 4,
 "nbformat_minor": 2,
 "cells": [
  {
   "source": [
    "# Profit Optimization\n",
    "Another typical logistic problem for a grocer is to maximize overall profit by selecting an optimal set of inventory. To build the model for this problem, assumptions should be given at the very beginning:\n",
    "\n",
    "  1. there are $N$ different kinds of items $U=\\{ U_0, U_1,\\cdots,U_{N-1} \\}$\n",
    "  2. each of the item has its own selling price $V=\\{ V_0, V_1, \\cdots, V_{N-1}\\}$\n",
    "  3. each of the item has its own cost $W=\\{ W_0, W_1, \\cdots, W_{N-1}\\}$\n",
    "  4. quantity of buying each item has an upper bound $B=\\{ B_0, B_1, \\cdots, B_{N-1}\\}$ \n",
    "  5. there is a total budget limit $C$ for restoring inventory\n",
    "  6. all items will be sold out\n",
    "\n",
    "This is a \"Knapsack\" problem, and D-Wave CQM solver is uised to handle this problem."
   ],
   "cell_type": "markdown",
   "metadata": {}
  },
  {
   "source": [
    "## Import Labraries"
   ],
   "cell_type": "markdown",
   "metadata": {}
  },
  {
   "cell_type": "code",
   "execution_count": 1,
   "metadata": {},
   "outputs": [],
   "source": [
    "from dimod import CQM, Binary, Integer, quicksum\n",
    "from dwave.system import LeapHybridCQMSampler\n",
    "import numpy as np"
   ]
  },
  {
   "source": [
    "## Problem Set Up\n",
    "Randomly generating list of item values $V$, item costs $W$, quantity upper bounds $B$, and the budget limit $C$."
   ],
   "cell_type": "markdown",
   "metadata": {}
  },
  {
   "cell_type": "code",
   "execution_count": 2,
   "metadata": {},
   "outputs": [
    {
     "output_type": "stream",
     "name": "stdout",
     "text": [
      "------------- Problem set up -------------\nvalues: [3, 4, 4, 5, 2, 9, 4, 7, 8, 9, 2, 2]\ncosts: [2, 8, 3, 2, 3, 3, 4, 1, 6, 3, 3, 6]\nbudget limit: 29\nquantity bounds: [4, 3, 3, 5, 4, 2, 2, 5, 3, 2, 2, 2]\n"
     ]
    }
   ],
   "source": [
    "# ---------- Problem set up -------------\n",
    "num_of_items = 12\n",
    "# values of every item (e.g. [8, 7, 1, 8, 5, 9, 8, 7, 1, 4, 1, 3])\n",
    "V = list(np.random.randint(1,10, size=(num_of_items)))\n",
    "# costs of every item (e.g. [2, 4, 8, 8, 4, 2, 5, 2, 4, 9, 7, 2])\n",
    "W = list(np.random.randint(1,10, size=(num_of_items)))\n",
    "# total cost upper bound (e.g. 23)\n",
    "C = np.random.randint(12, 40)\n",
    "# upper bounds of selling every item (e.g. [3, 3, 3, 3, 3, 3, 3, 3, 3, 3, 3, 3])\n",
    "B = list(np.random.randint(2, 6,size=(num_of_items)))\n",
    "print('------------- Problem set up -------------')\n",
    "print('values:',V)\n",
    "print('costs:',W)\n",
    "print('budget limit:',C)\n",
    "print('quantity bounds:',B)"
   ]
  },
  {
   "source": [
    "## Building CQM\n",
    "Discrete variables $x_{i}$ are introduced to denote the quantity of the restoring item $U_i$. Notice that there are upper bounds $B_i$ for each item $U_i$, which is an implicit constraint, i.e., \n",
    "\n",
    "$$\n",
    "0\\leq x_i\\leq B_i,\\ \\ \\ \\ i=0,\\cdots,N-1.\n",
    "$$"
   ],
   "cell_type": "markdown",
   "metadata": {}
  },
  {
   "cell_type": "code",
   "execution_count": 3,
   "metadata": {},
   "outputs": [],
   "source": [
    "# ---------- Build QCM ------------\n",
    "cqm = CQM()\n",
    "\n",
    "# Create discrete variables\n",
    "x = [Integer(i, upper_bound=B[i]) for i in range(num_of_items)]"
   ]
  },
  {
   "source": [
    "Our target is to maximize the net profit (total profit - total cost), that is, the sum of negative net profit should be minimized:\n",
    "\n",
    "$$\n",
    "\\min \\sum_{i=0}^{N-1} (W_i-V_i)\\cdot x_i.\n",
    "$$"
   ],
   "cell_type": "markdown",
   "metadata": {}
  },
  {
   "cell_type": "code",
   "execution_count": 4,
   "metadata": {},
   "outputs": [],
   "source": [
    "# -------------- Objective Function ------------------\n",
    "# maximize total net profit\n",
    "# Add obj to CQM\n",
    "cqm.set_objective(quicksum((W[i]-V[i])*x[i] for i in range(num_of_items)))"
   ]
  },
  {
   "source": [
    "There is only one remaining constraint now: the total cost should not exceed the budget limit:\n",
    "\n",
    "$$\n",
    "\\sum_{i=0}^{N-1} W_i\\cdot x_i \\leq C.\n",
    "$$"
   ],
   "cell_type": "markdown",
   "metadata": {}
  },
  {
   "cell_type": "code",
   "execution_count": 5,
   "metadata": {},
   "outputs": [
    {
     "output_type": "execute_result",
     "data": {
      "text/plain": [
       "'budget limit'"
      ]
     },
     "metadata": {},
     "execution_count": 5
    }
   ],
   "source": [
    "# -------------- Constraints -----------------\n",
    "# no exceeding total weight\n",
    "cqm.add_constraint( quicksum(W[i]*x[i] for i in range(num_of_items))<=C,\n",
    "                    label = 'budget limit' )"
   ]
  },
  {
   "source": [
    "## Submit to CQM Solver"
   ],
   "cell_type": "markdown",
   "metadata": {}
  },
  {
   "cell_type": "code",
   "execution_count": 6,
   "metadata": {},
   "outputs": [],
   "source": [
    "# -------------- Submit to CQM sampler ---------------\n",
    "cqm_sampler = LeapHybridCQMSampler()\n",
    "sampleset = cqm_sampler.sample_cqm(cqm, label = 'Inventory Demo')"
   ]
  },
  {
   "source": [
    "## Results"
   ],
   "cell_type": "markdown",
   "metadata": {}
  },
  {
   "cell_type": "code",
   "execution_count": 7,
   "metadata": {},
   "outputs": [
    {
     "output_type": "stream",
     "name": "stdout",
     "text": [
      "------------- Problem set up -------------\nvalues: [3, 4, 4, 5, 2, 9, 4, 7, 8, 9, 2, 2]\ncosts: [2, 8, 3, 2, 3, 3, 4, 1, 6, 3, 3, 6]\nbudget limit: 29\nquantity bounds: [4, 3, 3, 5, 4, 2, 2, 5, 3, 2, 2, 2]\n------------- Solution -------------\nbest solution:  [1, 0, 0, 5, 0, 2, 0, 5, 0, 2, 0, 0]\nTotal cost:  29\nTotal value:  99\n"
     ]
    }
   ],
   "source": [
    "# print set up again to compare\n",
    "print('------------- Problem set up -------------')\n",
    "print('values:',V)\n",
    "print('costs:',W)\n",
    "print('budget limit:',C)\n",
    "print('quantity bounds:',B)\n",
    "\n",
    "# -------------- Process the results ---------------\n",
    "print('------------- Solution -------------')\n",
    "feasible_sols = sampleset.filter(lambda row: row.is_feasible == True)\n",
    "if not len(feasible_sols):\n",
    "    print(\"\\nNo feasible solution found.\\n\")\n",
    "else:\n",
    "    sol = [int(feasible_sols.first.sample[i]) for i in range(num_of_items)]\n",
    "    print('best solution: ', sol)\n",
    "    print('Total cost: ', quicksum(W[i]*sol[i] for i in range(num_of_items)))\n",
    "    print('Total value: ', quicksum(V[i]*sol[i] for i in range(num_of_items)))\n"
   ]
  },
  {
   "cell_type": "code",
   "execution_count": null,
   "metadata": {},
   "outputs": [],
   "source": []
  }
 ]
}